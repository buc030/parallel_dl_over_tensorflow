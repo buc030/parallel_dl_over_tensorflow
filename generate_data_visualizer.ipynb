{
 "cells": [
  {
   "cell_type": "code",
   "execution_count": 11,
   "metadata": {
    "collapsed": false
   },
   "outputs": [
    {
     "data": {
      "text/plain": [
       "array([ 0.001  ,  0.08425,  0.1675 ,  0.25075,  0.334  ,  0.41725,\n",
       "        0.5005 ,  0.58375,  0.667  ,  0.75025,  0.8335 ,  0.91675])"
      ]
     },
     "execution_count": 11,
     "metadata": {},
     "output_type": "execute_result"
    }
   ],
   "source": [
    "import numpy as np\n",
    "\n",
    "start=0.001\n",
    "end=1\n",
    "steps=12\n",
    "np.linspace(start, end, steps, False)"
   ]
  },
  {
   "cell_type": "code",
   "execution_count": 1,
   "metadata": {
    "collapsed": true
   },
   "outputs": [],
   "source": []
  },
  {
   "cell_type": "code",
   "execution_count": 1,
   "metadata": {
    "collapsed": false
   },
   "outputs": [],
   "source": [
    "import matplotlib\n",
    "import numpy as np\n",
    "\n",
    "from os import listdir\n",
    "from os.path import isfile, join\n",
    "import os\n",
    "import re\n",
    "\n",
    "import experiment\n",
    "import matplotlib.pyplot as plt\n",
    "\n",
    "from batch_provider import SimpleBatchProvider\n",
    "\n",
    "import tensorflow as tf\n",
    "import matplotlib.image as mpimg\n",
    "import numpy as np\n",
    "\n",
    "\n",
    "sess = tf.InteractiveSession()\n",
    "\n",
    "\n",
    "\n",
    "        "
   ]
  },
  {
   "cell_type": "code",
   "execution_count": null,
   "metadata": {
    "collapsed": true
   },
   "outputs": [],
   "source": []
  },
  {
   "cell_type": "code",
   "execution_count": 2,
   "metadata": {
    "collapsed": true
   },
   "outputs": [],
   "source": [
    "\n",
    "#input_dim, output_dim, dataset_size, batch_sizes\n",
    "with tf.variable_scope('batch_providers') as scope:\n",
    "    batch_prov = SimpleBatchProvider(6, 1, 20000, 1)\n",
    "    batch_prov2 = SimpleBatchProvider(6, 1, 20000, 1)\n",
    "\n",
    "sess.run(tf.local_variables_initializer())\n",
    "sess.run(tf.global_variables_initializer())\n",
    "coord = tf.train.Coordinator()\n",
    "threads = tf.train.start_queue_runners(sess=sess, coord=coord)\n",
    "batch_prov.custom_runner.start_threads(sess)\n",
    "batch_prov2.custom_runner.start_threads(sess)\n",
    "batch_prov.set_data_source(sess=sess, data_name='train')\n",
    "batch_prov2.set_data_source(sess=sess, data_name='train')"
   ]
  },
  {
   "cell_type": "code",
   "execution_count": 3,
   "metadata": {
    "collapsed": true
   },
   "outputs": [],
   "source": [
    "\n",
    "\n",
    "\n"
   ]
  },
  {
   "cell_type": "code",
   "execution_count": 4,
   "metadata": {
    "collapsed": true
   },
   "outputs": [],
   "source": []
  },
  {
   "cell_type": "code",
   "execution_count": 5,
   "metadata": {
    "collapsed": false
   },
   "outputs": [
    {
     "data": {
      "text/plain": [
       "[<Thread(Thread-6, started daemon 140268590196480)>,\n",
       " <Thread(Thread-7, started daemon 140268581803776)>]"
      ]
     },
     "execution_count": 5,
     "metadata": {},
     "output_type": "execute_result"
    }
   ],
   "source": []
  },
  {
   "cell_type": "code",
   "execution_count": 6,
   "metadata": {
    "collapsed": false
   },
   "outputs": [],
   "source": [
    "\n",
    "\n"
   ]
  },
  {
   "cell_type": "code",
   "execution_count": 7,
   "metadata": {
    "collapsed": false
   },
   "outputs": [
    {
     "data": {
      "text/plain": [
       "u'/home/shai/anaconda/lib/python2.7/site-packages/matplotlib/mpl-data/matplotlibrc'"
      ]
     },
     "execution_count": 7,
     "metadata": {},
     "output_type": "execute_result"
    }
   ],
   "source": [
    "matplotlib.matplotlib_fname()"
   ]
  },
  {
   "cell_type": "code",
   "execution_count": 5,
   "metadata": {
    "collapsed": false
   },
   "outputs": [],
   "source": [
    "import matplotlib\n",
    "matplotlib.use('qt5agg')"
   ]
  },
  {
   "cell_type": "code",
   "execution_count": 6,
   "metadata": {
    "collapsed": false
   },
   "outputs": [],
   "source": [
    "#How does the generated input data scattered? \n",
    "x = []\n",
    "y = []\n",
    "for i in range(100):\n",
    "    xy = sess.run(batch_prov.batch())\n",
    "    x.append(xy[0][0][0])\n",
    "    y.append(xy[0][0][3])\n",
    "\n",
    "plt.xlabel('x1')\n",
    "plt.ylabel('x2')\n",
    "plt.scatter(x, y)\n",
    "plt.show()"
   ]
  },
  {
   "cell_type": "code",
   "execution_count": 9,
   "metadata": {
    "collapsed": false
   },
   "outputs": [],
   "source": [
    "#How much the label depends on one axis?\n",
    "#Now y is the label\n",
    "plt.clf()\n",
    "xys = []\n",
    "for i in range(1000):\n",
    "    xys.append(sess.run(batch_prov.batch()))\n",
    "        \n",
    "for axis in range(6):\n",
    "    x = []\n",
    "    y = []\n",
    "    for i in range(1000):\n",
    "        xy = xys[i]\n",
    "        x.append(xy[0][0][axis])\n",
    "        y.append(xy[1][0][0])\n",
    "\n",
    "    plt.xlabel('data axis ' + str(axis))\n",
    "    plt.ylabel('label')\n",
    "    plt.scatter(x, y)\n",
    "    plt.savefig('genereted_images/axis_' + str(axis) + '_vs_label.png')\n",
    "    plt.clf()\n",
    "    "
   ]
  }
 ],
 "metadata": {
  "kernelspec": {
   "display_name": "Python 2",
   "language": "python",
   "name": "python2"
  },
  "language_info": {
   "codemirror_mode": {
    "name": "ipython",
    "version": 2
   },
   "file_extension": ".py",
   "mimetype": "text/x-python",
   "name": "python",
   "nbconvert_exporter": "python",
   "pygments_lexer": "ipython2",
   "version": "2.7.13"
  }
 },
 "nbformat": 4,
 "nbformat_minor": 0
}
