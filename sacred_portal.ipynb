{
 "cells": [
  {
   "cell_type": "code",
   "execution_count": 1,
   "metadata": {
    "collapsed": true
   },
   "outputs": [],
   "source": [
    "from pymongo import MongoClient\n",
    "from tensorflow.python.summary import event_accumulator as ea\n",
    "import matplotlib\n",
    "matplotlib.use('Qt4Agg')\n",
    "import matplotlib.pyplot as plt\n",
    "import numpy as np\n",
    "\n",
    "client = MongoClient(\"mongodb://localhost:27017\")"
   ]
  },
  {
   "cell_type": "code",
   "execution_count": 2,
   "metadata": {
    "collapsed": false
   },
   "outputs": [],
   "source": [
    "from bson.objectid import ObjectId"
   ]
  },
  {
   "cell_type": "code",
   "execution_count": null,
   "metadata": {
    "collapsed": false
   },
   "outputs": [],
   "source": []
  },
  {
   "cell_type": "code",
   "execution_count": 3,
   "metadata": {
    "collapsed": false
   },
   "outputs": [],
   "source": [
    "\n",
    "\n",
    "#cusor = client['sacred']['runs'].find({'config.lr' : {'$lt': 0.1}})\n",
    "cusor = client['cifar_ten']['runs'].find({})\n"
   ]
  },
  {
   "cell_type": "code",
   "execution_count": 4,
   "metadata": {
    "collapsed": false
   },
   "outputs": [
    {
     "name": "stdout",
     "output_type": "stream",
     "text": [
      "cifar_sgd_adjust\n",
      "{u'state_of_the_art': True, u'per_variable': False, u'iters_per_adjust': 250, u'num_residual_units': 4, u'relu_leakiness': 0.1, u'batch_size': 100, u'n_epochs': 100, u'base_optimizer': u'SGD', u'seed': 402831889, u'lr': 0.1, u'beta2': 0.999, u'beta1': 0.9, u'rho': 0.95, u'use_bottleneck': False, u'tensorboard_dir': u'/home/shai/tensorflow/generated_data/167', u'weight_decay_rate': 0.0002}\n"
     ]
    }
   ],
   "source": [
    "tb_dir = cusor[4]['config']['tensorboard_dir']\n",
    "\n",
    "#print client['sacred'].collection_names()\n",
    "print cusor[4]['experiment']['name']\n",
    "\n",
    "#print client['sacred']['fs.files'].find({'_id' : ObjectId('5974cf42b7d25c1df647caa9')})[0]\n",
    "print cusor[4]['config']"
   ]
  },
  {
   "cell_type": "code",
   "execution_count": 5,
   "metadata": {
    "collapsed": false
   },
   "outputs": [
    {
     "name": "stdout",
     "output_type": "stream",
     "text": [
      "INFO:tensorflow:No path found after /home/shai/tensorflow/generated_data/167/events.out.tfevents.1500847782.gpu-plx01\n"
     ]
    },
    {
     "data": {
      "text/plain": [
       "<tensorflow.python.summary.event_accumulator.EventAccumulator at 0x7fe4a3e662d0>"
      ]
     },
     "execution_count": 5,
     "metadata": {},
     "output_type": "execute_result"
    }
   ],
   "source": [
    "\n",
    "acc = ea.EventAccumulator(tb_dir)\n",
    "acc.Reload()"
   ]
  },
  {
   "cell_type": "code",
   "execution_count": 6,
   "metadata": {
    "collapsed": false
   },
   "outputs": [
    {
     "name": "stdout",
     "output_type": "stream",
     "text": [
      "[u'train_loss', u'base_optimizer/weights_norm_during_sgd', u'train_accuracy', u'base_optimizer/learning_rate', u'base_optimizer/grad_norm_norm_during_sgd', u'test_accuracy', u'test_loss']\n",
      "/home/shai/tensorflow/generated_data/167\n"
     ]
    }
   ],
   "source": [
    "print acc.Tags()['scalars']\n",
    "print tb_dir"
   ]
  },
  {
   "cell_type": "code",
   "execution_count": 7,
   "metadata": {
    "collapsed": false
   },
   "outputs": [],
   "source": [
    "#"
   ]
  },
  {
   "cell_type": "code",
   "execution_count": 8,
   "metadata": {
    "collapsed": false
   },
   "outputs": [],
   "source": [
    "\n",
    "#acc.Scalars('train_loss')"
   ]
  },
  {
   "cell_type": "code",
   "execution_count": null,
   "metadata": {
    "collapsed": false
   },
   "outputs": [],
   "source": []
  },
  {
   "cell_type": "code",
   "execution_count": 3,
   "metadata": {
    "collapsed": false
   },
   "outputs": [],
   "source": [
    "\n",
    "class Plotter:\n",
    "    accs_cache = {}\n",
    "\n",
    "    @staticmethod\n",
    "    def get_accs(client, databases, query, asked_labels):\n",
    "        tb_dirs = []\n",
    "        labels = []\n",
    "        batch_sizes = []\n",
    "        configs = []\n",
    "        print 'databases = ' + str(databases)\n",
    "        for database in databases:\n",
    "            cusor = client[database]['runs'].find(query)\n",
    "            print 'cusor = ' + str(cusor)\n",
    "            \n",
    "            for x in cusor:\n",
    "                print 'experiment name: ' + x['experiment']['name']\n",
    "                tb_dirs.append(x['config']['tensorboard_dir'])\n",
    "                labels.append([])\n",
    "                batch_sizes.append(x['config']['batch_size'])\n",
    "                configs.append(x['config'])\n",
    "                for asked_label in asked_labels:\n",
    "                    try:\n",
    "                        labels[-1].append(asked_label + '=' + str(x['config'][asked_label]))\n",
    "                    except KeyError:\n",
    "                        labels[-1].append(asked_label + '=None')\n",
    "                \n",
    "\n",
    "        accs = []\n",
    "        for d in tb_dirs:\n",
    "            if d not in Plotter.accs_cache:\n",
    "                Plotter.accs_cache[d] = ea.EventAccumulator(d)\n",
    "                Plotter.accs_cache[d].Reload()\n",
    "            accs.append(Plotter.accs_cache[d])\n",
    "        \n",
    "        \n",
    "        l = zip(labels, batch_sizes, accs, configs)\n",
    "        l.sort()\n",
    "        labels, batch_sizes, accs, configs = zip(*l)\n",
    "\n",
    "        return accs, labels, batch_sizes, configs\n",
    "    \n",
    "    @staticmethod\n",
    "    def get_plot_time_to_accuracy(acc, batch_size, acc_labels):\n",
    "        target_accs = []\n",
    "        first_biggers = []\n",
    "        for target_acc in np.linspace(0.2, 1, 10000):\n",
    "            try:\n",
    "                first_biggers.append((s.step/float(batch_size) for s in acc.Scalars('test_accuracy') if s.value > target_acc).next())\n",
    "                target_accs.append(target_acc)\n",
    "            except StopIteration:\n",
    "                pass\n",
    "\n",
    "        return target_accs, first_biggers\n",
    "        \n",
    "    @staticmethod\n",
    "    def _plot_speedup_to_accuracy(ref_acc, ref_batch_size, acc, batch_size, acc_labels):\n",
    "        target_accs, first_biggers = Plotter.get_plot_time_to_accuracy(acc, batch_size, acc_labels)\n",
    "        ref_target_accs, ref_first_biggers = Plotter.get_plot_time_to_accuracy(ref_acc, ref_batch_size, acc_labels)\n",
    "\n",
    "        x = np.array(target_accs, dtype=np.float32)\n",
    "        y = np.array([s for s in first_biggers], dtype=np.float32)\n",
    "        \n",
    "        ref_y = np.array([s for s in ref_first_biggers], dtype=np.float32)\n",
    "        \n",
    "        #resize y_ref:\n",
    "        ref_y = np.resize(ref_y, y.shape)\n",
    "        \n",
    "        plt.plot(target_accs, ref_y/y, label=str(acc_labels))\n",
    "        \n",
    "    @staticmethod\n",
    "    def plot_speedup_to_accuracy(client, databases, ref_query, query, tag, asked_labels):\n",
    "        accs, labels, batch_sizes, configs = Plotter.get_accs(client, databases, query, asked_labels)\n",
    "        ref_accs, ref_labels, ref_batch_sizes, ref_configs = Plotter.get_accs(client, databases, ref_query, asked_labels)\n",
    "        \n",
    "        #plot\n",
    "        fig = plt.figure(figsize=(10, 8))\n",
    "        for acc, acc_labels, batch_size in zip(accs, labels, batch_sizes):\n",
    "            Plotter._plot_speedup_to_accuracy(ref_accs[0], ref_batch_sizes[0], acc, batch_size, acc_labels)\n",
    "            \n",
    "    @staticmethod\n",
    "    def _plot_time_to_accuracy(acc, batch_size, acc_labels):\n",
    "        target_accs, first_biggers = Plotter.get_plot_time_to_accuracy(acc, batch_size, acc_labels)\n",
    "        plt.plot(target_accs, [s for s in first_biggers], label=str(acc_labels))\n",
    "    \n",
    "    @staticmethod\n",
    "    def plot_time_to_accuracy(client, databases, query, tag, asked_labels):\n",
    "        accs, labels, batch_sizes, configs = Plotter.get_accs(client, databases, query, asked_labels)\n",
    "        #plot\n",
    "        fig = plt.figure(figsize=(10, 8))\n",
    "        for acc, acc_labels, batch_size in zip(accs, labels, batch_sizes):\n",
    "            Plotter._plot_time_to_accuracy(acc, batch_size, acc_labels)\n",
    " \n",
    "    \n",
    "    @staticmethod\n",
    "    def plot(client, databases, query, tag, asked_labels, scale_by_batch_size=None, create_figure=True):\n",
    "        accs, labels, batch_sizes, configs = Plotter.get_accs(client, databases, query, asked_labels)\n",
    "        #plot\n",
    "#         print 'accs = ' + str(accs)\n",
    "#         print 'labels = ' + str(labels)\n",
    "#         print 'batch_sizes = ' + str(batch_sizes)\n",
    "#         print 'zip = ' + str(zip(accs, labels, batch_sizes))\n",
    "        if create_figure:\n",
    "            fig = plt.figure(figsize=(10, 8))\n",
    "        for acc, acc_labels, batch_size in zip(accs, labels, batch_sizes):\n",
    "            scalar = acc.Scalars(tag)\n",
    "            #print 'scalar = ' + str(scalar)\n",
    "            if scale_by_batch_size == None:\n",
    "                plt.plot([s.step for s in scalar], [s.value for s in scalar], label=str(acc_labels))\n",
    "            else:\n",
    "                plt.plot([s.step/float(scale_by_batch_size(batch_size)) for s in scalar], \n",
    "                         [s.value for s in scalar], label=str(acc_labels))\n",
    "            \n",
    "    @staticmethod\n",
    "    def plot_max(client, databases, query, tag, asked_labels, scale_by_batch_size=None):\n",
    "        accs, labels, batch_sizes, configs = Plotter.get_accs(client, databases, query, asked_labels)\n",
    "        #plot\n",
    "        fig = plt.figure(figsize=(10, 8))\n",
    "        for acc, acc_labels, batch_size in zip(accs, labels, batch_sizes):\n",
    "            scalar = acc.Scalars(tag)\n",
    "            maxes = [max([s.value for s in scalar[:i+1]] ) for i in range(len(scalar))]\n",
    "            \n",
    "            print 'max = ' + str(max([s.value for s in scalar] ))\n",
    "            if scale_by_batch_size == None:\n",
    "                plt.plot([s.step for s in scalar], maxes, label=str(acc_labels))\n",
    "            else:\n",
    "                plt.plot([s.step/float(scale_by_batch_size(batch_size)) for s in scalar], maxes, label=str(acc_labels))\n",
    "                \n",
    "    @staticmethod\n",
    "    def plot_min(client, databases, query, tag, asked_labels, scale_by_batch_size=None):\n",
    "        accs, labels, batch_sizes, configs = Plotter.get_accs(client, databases, query, asked_labels)\n",
    "        #plot\n",
    "        fig = plt.figure(figsize=(10, 8))\n",
    "        for acc, acc_labels, batch_size in zip(accs, labels, batch_sizes):\n",
    "            scalar = acc.Scalars(tag)\n",
    "            maxes = [min([s.value for s in scalar[:i+1]] ) for i in range(len(scalar))]\n",
    "            if scale_by_batch_size == None:\n",
    "                plt.plot([s.step for s in scalar], maxes, label=str(acc_labels))\n",
    "            else:\n",
    "                plt.plot([s.step/float(scale_by_batch_size(batch_size)) for s in scalar], maxes, label=str(acc_labels))"
   ]
  },
  {
   "cell_type": "markdown",
   "metadata": {},
   "source": [
    "# Results – MNIST on CNN"
   ]
  },
  {
   "cell_type": "code",
   "execution_count": 393,
   "metadata": {
    "collapsed": false
   },
   "outputs": [
    {
     "name": "stdout",
     "output_type": "stream",
     "text": [
      "databases = ['minst_sgd_adjust_db']\n",
      "cusor = <pymongo.cursor.Cursor object at 0x7f1b47582b50>\n",
      "experiment name: minst_sgd_adjust\n",
      "experiment name: minst_sgd_adjust\n",
      "databases = ['minst_sgd_adjust_db']\n",
      "cusor = <pymongo.cursor.Cursor object at 0x7f1b4691a690>\n",
      "experiment name: minst_sgd_adjust\n",
      "experiment name: minst_sgd_adjust\n",
      "databases = ['minst_sgd_adjust_db']\n",
      "cusor = <pymongo.cursor.Cursor object at 0x7f1b46a3ee90>\n",
      "experiment name: minst_sgd_adjust\n",
      "experiment name: minst_sgd_adjust\n",
      "databases = ['minst_sgd_adjust_db']\n",
      "cusor = <pymongo.cursor.Cursor object at 0x7f1b47d9c9d0>\n",
      "experiment name: minst_sgd_adjust\n",
      "experiment name: minst_sgd_adjust\n"
     ]
    }
   ],
   "source": [
    "fig = plt.figure(figsize=(10, 8))\n",
    "\n",
    "ax = fig.add_subplot(221)\n",
    "plt.title('Momentum Test Loss')\n",
    "query = {'$or': [\n",
    "        {'config.tensorboard_dir' : u'/home/shai/tensorflow/generated_data/1673'},\n",
    "        {'config.tensorboard_dir' : u'/home/shai/tensorflow/generated_data/1661'}] }\n",
    "Plotter.plot(client, ['minst_sgd_adjust_db'], query, 'test_loss', \n",
    "             ['lr', 'iters_per_adjust'], scale_by_batch_size=None, create_figure=False)\n",
    "plt.xlabel('epoch')\n",
    "plt.ylabel('Test Loss')\n",
    "plt.legend()\n",
    "plt.yscale('log')\n",
    "plt.grid(True)\n",
    "\n",
    "\n",
    "\n",
    "ax = fig.add_subplot(222)\n",
    "plt.title('Nestrov Test Loss')\n",
    "query = {'$or': [\n",
    "        {'config.tensorboard_dir' : u'/home/shai/tensorflow/generated_data/1677'},\n",
    "        {'config.tensorboard_dir' : u'/home/shai/tensorflow/generated_data/1669'}] }\n",
    "Plotter.plot(client, ['minst_sgd_adjust_db'], query, 'test_loss', \n",
    "             ['lr', 'iters_per_adjust'], scale_by_batch_size=None, create_figure=False)\n",
    "plt.xlabel('epoch')\n",
    "plt.ylabel('Test Loss')\n",
    "plt.legend()\n",
    "plt.yscale('log')\n",
    "plt.grid(True)\n",
    "\n",
    "\n",
    "\n",
    "ax = fig.add_subplot(223)\n",
    "plt.title('SGD Test Loss')\n",
    "query = {'$or': [\n",
    "        {'config.tensorboard_dir' : u'/home/shai/tensorflow/generated_data/1675'},\n",
    "        {'config.tensorboard_dir' : u'/home/shai/tensorflow/generated_data/1667'}] }\n",
    "Plotter.plot(client, ['minst_sgd_adjust_db'], query, 'test_loss', \n",
    "             ['lr', 'iters_per_adjust'], scale_by_batch_size=None, create_figure=False)\n",
    "plt.xlabel('epoch')\n",
    "plt.ylabel('Test Loss')\n",
    "plt.legend()\n",
    "plt.yscale('log')\n",
    "plt.grid(True)\n",
    "\n",
    "\n",
    "#ANGLE (for SGD)\n",
    "ax = fig.add_subplot(224)\n",
    "plt.title('Angle between recent trajectories')\n",
    "query = {'$or': [\n",
    "    {'config.tensorboard_dir' : u'/home/shai/tensorflow/generated_data/1675'},\n",
    "    {'config.tensorboard_dir' : u'/home/shai/tensorflow/generated_data/1730'}] }\n",
    "#Plotter.accs_cache = {}\n",
    "#accs = Plotter.get_accs(client, ['minst_sgd_adjust_db'], query, ['lr', 'disable_lr_change'])\n",
    "\n",
    "Plotter.plot(client, ['minst_sgd_adjust_db'], query, 'base_optimizer/angle__u__v_', \n",
    "             ['lr', 'disable_lr_change'], scale_by_batch_size=None, create_figure=False)\n",
    "\n",
    "plt.title('Angle between recent trajectories')\n",
    "plt.xlabel('1/2 epoch')\n",
    "plt.ylabel('cos(angle)')\n",
    "\n",
    "#plt.yscale('log')\n",
    "plt.legend()\n",
    "plt.grid(True)\n",
    "plt.show()\n",
    "\n",
    "\n",
    "\n",
    "plt.show()\n"
   ]
  },
  {
   "cell_type": "markdown",
   "metadata": {},
   "source": [
    "# Cifar10 - w28-10 Wide Residual Network"
   ]
  },
  {
   "cell_type": "code",
   "execution_count": 341,
   "metadata": {
    "collapsed": false,
    "scrolled": true
   },
   "outputs": [
    {
     "name": "stdout",
     "output_type": "stream",
     "text": [
      "databases = ['cifar_ten']\n",
      "cusor = <pymongo.cursor.Cursor object at 0x7f1b46d51a10>\n",
      "experiment name: cifar_sgd_adjust\n",
      "experiment name: cifar_sgd_adjust\n",
      "INFO:tensorflow:No path found after /home/shai/tensorflow/generated_data/1638/events.out.tfevents.1506348358.gpu-plx01\n",
      "INFO:tensorflow:No path found after /home/shai/tensorflow/generated_data/1639/events.out.tfevents.1506348410.gpu-plx01\n",
      "databases = ['cifar_ten']\n",
      "cusor = <pymongo.cursor.Cursor object at 0x7f1b4e2bf590>\n",
      "experiment name: cifar_sgd_adjust\n",
      "experiment name: cifar_sgd_adjust\n",
      "INFO:tensorflow:No path found after /home/shai/tensorflow/generated_data/1637/events.out.tfevents.1506348337.gpu-plx01\n",
      "INFO:tensorflow:No path found after /home/shai/tensorflow/generated_data/1643/events.out.tfevents.1506348664.gpu-plx03\n",
      "databases = ['cifar_ten']\n",
      "cusor = <pymongo.cursor.Cursor object at 0x7f1b6b2e5390>\n",
      "experiment name: cifar_sgd_adjust\n",
      "experiment name: cifar_sgd_adjust\n",
      "INFO:tensorflow:No path found after /home/shai/tensorflow/generated_data/1644/events.out.tfevents.1506348683.gpu-plx03\n",
      "INFO:tensorflow:No path found after /home/shai/tensorflow/generated_data/1645/events.out.tfevents.1506348686.gpu-plx03\n",
      "databases = ['cifar_ten']\n",
      "cusor = <pymongo.cursor.Cursor object at 0x7f1b51213250>\n",
      "experiment name: cifar_sgd_adjust\n",
      "experiment name: cifar_sgd_adjust\n",
      "INFO:tensorflow:No path found after /home/shai/tensorflow/generated_data/166/events.out.tfevents.1500847755.gpu-plx01\n",
      "INFO:tensorflow:No path found after /home/shai/tensorflow/generated_data/167/events.out.tfevents.1500847782.gpu-plx01\n"
     ]
    }
   ],
   "source": [
    "fig = plt.figure(figsize=(10, 8))\n",
    "\n",
    "ax = fig.add_subplot(221)\n",
    "plt.title('Momentum Test Accuracy')\n",
    "query = {'$or': [\n",
    "        {'config.tensorboard_dir' : u'/home/shai/tensorflow/generated_data/1638'},\n",
    "        {'config.tensorboard_dir' : u'/home/shai/tensorflow/generated_data/1639'}] }\n",
    "Plotter.plot(client, ['cifar_ten'], query, 'test_accuracy', \n",
    "             ['lr', 'iters_per_adjust'], scale_by_batch_size=None, create_figure=False)\n",
    "plt.xlabel('epoch')\n",
    "plt.ylabel('Test Accuracy')\n",
    "plt.legend()\n",
    "plt.grid(True)\n",
    "\n",
    "\n",
    "\n",
    "ax = fig.add_subplot(222)\n",
    "plt.title('Nestrov Test Accuracy')\n",
    "query = {'$or': [\n",
    "        {'config.tensorboard_dir' : u'/home/shai/tensorflow/generated_data/1637'},\n",
    "        {'config.tensorboard_dir' : u'/home/shai/tensorflow/generated_data/1643'}] }\n",
    "Plotter.plot(client, ['cifar_ten'], query, 'test_accuracy', \n",
    "             ['lr', 'iters_per_adjust'], scale_by_batch_size=None, create_figure=False)\n",
    "plt.xlabel('epoch')\n",
    "plt.ylabel('Test Accuracy')\n",
    "plt.legend()\n",
    "plt.grid(True)\n",
    "\n",
    "\n",
    "\n",
    "ax = fig.add_subplot(223)\n",
    "plt.title('Adagrad Test Accuracy')\n",
    "query = {'$or': [\n",
    "        {'config.tensorboard_dir' : u'/home/shai/tensorflow/generated_data/1644'},\n",
    "        {'config.tensorboard_dir' : u'/home/shai/tensorflow/generated_data/1645'}] }\n",
    "Plotter.plot(client, ['cifar_ten'], query, 'test_accuracy', \n",
    "             ['lr', 'iters_per_adjust'], scale_by_batch_size=None, create_figure=False)\n",
    "plt.xlabel('epoch')\n",
    "plt.ylabel('Test Accuracy')\n",
    "plt.legend()\n",
    "plt.grid(True)\n",
    "\n",
    "\n",
    "\n",
    "ax = fig.add_subplot(224)\n",
    "plt.title('SGD Test Accuracy')\n",
    "query = {'$or': [\n",
    "        {'config.tensorboard_dir' : u'/home/shai/tensorflow/generated_data/166'},\n",
    "        {'config.tensorboard_dir' : u'/home/shai/tensorflow/generated_data/167'}] }\n",
    "Plotter.plot(client, ['cifar_ten'], query, 'test_accuracy', \n",
    "             ['lr', 'iters_per_adjust'], scale_by_batch_size=None, create_figure=False)\n",
    "plt.xlabel('epoch')\n",
    "plt.ylabel('Test Accuracy')\n",
    "plt.legend()\n",
    "plt.grid(True)\n",
    "\n",
    "\n",
    "\n",
    "plt.show()\n",
    "\n",
    "\n"
   ]
  },
  {
   "cell_type": "code",
   "execution_count": 377,
   "metadata": {
    "collapsed": false
   },
   "outputs": [
    {
     "name": "stdout",
     "output_type": "stream",
     "text": [
      "databases = ['cifar_ten']\n",
      "cusor = <pymongo.cursor.Cursor object at 0x7f1b3777f110>\n",
      "experiment name: cifar_sgd_adjust\n",
      "experiment name: cifar_sgd_adjust\n"
     ]
    }
   ],
   "source": [
    "fig = plt.figure(figsize=(10, 8))\n",
    "\n",
    "plt.title('SGD Test Accuracy')\n",
    "query = {'$or': [\n",
    "        {'config.tensorboard_dir' : u'/home/shai/tensorflow/generated_data/167'},\n",
    "        {'config.tensorboard_dir' : u'/home/shai/tensorflow/generated_data/1723'}] }\n",
    "Plotter.plot(client, ['cifar_ten'], query, 'test_accuracy', \n",
    "             ['lr', 'break_lr_hand_tune'], scale_by_batch_size=None, create_figure=False)\n",
    "plt.xlabel('epoch')\n",
    "plt.ylabel('Test Accuracy')\n",
    "plt.legend()\n",
    "plt.grid(True)\n",
    "plt.show()"
   ]
  },
  {
   "cell_type": "markdown",
   "metadata": {
    "collapsed": false
   },
   "source": [
    "# The angle between recent trajectories"
   ]
  },
  {
   "cell_type": "code",
   "execution_count": 319,
   "metadata": {
    "collapsed": false
   },
   "outputs": [
    {
     "name": "stdout",
     "output_type": "stream",
     "text": [
      "databases = ['minst_sgd_adjust_db']\n",
      "cusor = <pymongo.cursor.Cursor object at 0x7f1b4538ed10>\n",
      "experiment name: minst_sgd_adjust\n",
      "experiment name: minst_sgd_adjust\n"
     ]
    }
   ],
   "source": [
    "#plt.plot([s.value for s in accs[0][0].Scalars('base_optimizer/angle__u__v_')])\n",
    "query = {'$or': [\n",
    "        {'config.tensorboard_dir' : u'/home/shai/tensorflow/generated_data/1650'},\n",
    "   # {'config.tensorboard_dir' : u'/home/shai/tensorflow/generated_data/1651'},\n",
    "   # {'config.tensorboard_dir' : u'/home/shai/tensorflow/generated_data/1652'},\n",
    "    {'config.tensorboard_dir' : u'/home/shai/tensorflow/generated_data/1672'}] }\n",
    "#Plotter.accs_cache = {}\n",
    "#accs = Plotter.get_accs(client, ['minst_sgd_adjust_db'], query, ['lr', 'disable_lr_change'])\n",
    "\n",
    "Plotter.plot(client, ['minst_sgd_adjust_db'], query, 'base_optimizer/angle__u__v_', \n",
    "             ['lr', 'disable_lr_change'], scale_by_batch_size=None)\n",
    "\n",
    "plt.title('Angle between recent trajectories')\n",
    "plt.xlabel('1/2 epoch')\n",
    "plt.ylabel('cos(angle)')\n",
    "\n",
    "#plt.yscale('log')\n",
    "plt.legend()\n",
    "plt.grid(True)\n",
    "plt.show()"
   ]
  },
  {
   "cell_type": "markdown",
   "metadata": {},
   "source": [
    "# The short blanket - tighten it up"
   ]
  },
  {
   "cell_type": "code",
   "execution_count": 410,
   "metadata": {
    "collapsed": false
   },
   "outputs": [
    {
     "name": "stdout",
     "output_type": "stream",
     "text": [
      "databases = ['minst_seboost_db']\n",
      "cusor = <pymongo.cursor.Cursor object at 0x7f1b47160490>\n",
      "experiment name: minst_seboost\n",
      "INFO:tensorflow:No path found after /home/shai/tensorflow/generated_data/1724/events.out.tfevents.1506523917.gpu-plx03\n",
      "[{u'history_decay_rate': 1.0, u'n_epochs': 100, u'seed': 913526365, u'history_size': 10, u'anchor_size': 0, u'weight_decay': 2e-05, u'normalize_history_dirs': False, u'tensorboard_dir': u'/home/shai/tensorflow/generated_data/1724', u'num_of_batches_per_sesop': 10, u'lr': 0.1, u'disable_sesop_at_all': False, u'sesop_options': {u'gtol': 1e-06, u'maxiter': 200}, u'break_sesop_batch': False, u'disable_dropout_at_all': True, u'normalize_subspace': False, u'batch_size': 100, u'anchor_offsets': [], u'iters_per_sesop': 550, u'use_grad_dir': False, u'normalize_function_during_sesop': True, u'adaptable_learning_rate': False, u'seboost_base_method': u'SGD', u'per_variable': False, u'sesop_private_dataset': False, u'VECTOR_BREAKING': False, u'disable_dropout_during_sesop': True, u'sesop_method': u'CG'}]\n",
      "databases = ['minst_seboost_db']\n",
      "cusor = <pymongo.cursor.Cursor object at 0x7f1b464d0ad0>\n",
      "experiment name: minst_seboost\n"
     ]
    }
   ],
   "source": [
    "# Mnist CNN with weight decay\n",
    "query = {'$or': [\n",
    "        {'config.tensorboard_dir' : u'/home/shai/tensorflow/generated_data/1724'}] }\n",
    "\n",
    "\n",
    "#Plotter.accs_cache = {}\n",
    "accs, _, _, configs = Plotter.get_accs(client, ['minst_seboost_db'], query, ['lr'])\n",
    "print configs\n",
    "\n",
    "Plotter.plot(client, ['minst_seboost_db'], query, \n",
    "             'seboost_optimizer/sesop_optimizer/after_sesop/after_sesop_minibatch_loss', \n",
    "             ['lr'], scale_by_batch_size=None)\n",
    "\n",
    "# Plotter.plot(client, ['minst_seboost_db'], query, \n",
    "#              'seboost_optimizer/full_loss', \n",
    "#              ['lr'], scale_by_batch_size=None)\n",
    "\n",
    "plt.yscale('log')\n",
    "plt.title('SESOP-SGD on MNIST Classification')\n",
    "plt.xlabel('SESOP iteration')\n",
    "plt.ylabel('train loss on batch')\n",
    "\n",
    "plt.legend()\n",
    "plt.grid(True)\n",
    "plt.show()\n"
   ]
  },
  {
   "cell_type": "code",
   "execution_count": 411,
   "metadata": {
    "collapsed": false
   },
   "outputs": [
    {
     "name": "stdout",
     "output_type": "stream",
     "text": [
      "databases = ['minst_seboost_db']\n",
      "cusor = <pymongo.cursor.Cursor object at 0x7f1b758c6710>\n",
      "experiment name: minst_seboost\n"
     ]
    }
   ],
   "source": [
    "accs = Plotter.get_accs(client, ['minst_seboost_db'], query, ['lr'])\n",
    "full_loss = accs[0][0].Scalars('seboost_optimizer/full_loss')\n",
    "\n",
    "full_loss_before = []\n",
    "full_loss_after = []\n",
    "for i in range(len(full_loss)/2):\n",
    "    full_loss_before.append(full_loss[2*i].value)\n",
    "    full_loss_after.append(full_loss[2*i + 1].value)\n",
    "    \n",
    "    \n",
    "plt.plot(full_loss_before, label='before')\n",
    "plt.plot(full_loss_after, label='after')\n",
    "plt.plot(full_loss_before, 'o')\n",
    "plt.plot(full_loss_after, 'o')\n",
    "\n",
    "plt.title('Full train loss before and after SESOP')\n",
    "plt.xlabel('SESOP iteration')\n",
    "plt.ylabel('loss')\n",
    "\n",
    "plt.yscale('log')\n",
    "plt.grid(True)\n",
    "plt.legend()\n",
    "plt.show()"
   ]
  },
  {
   "cell_type": "markdown",
   "metadata": {},
   "source": [
    "# The short blanket - tighten it up 2"
   ]
  },
  {
   "cell_type": "code",
   "execution_count": 408,
   "metadata": {
    "collapsed": false
   },
   "outputs": [
    {
     "name": "stdout",
     "output_type": "stream",
     "text": [
      "databases = ['minst_seboost_db']\n",
      "cusor = <pymongo.cursor.Cursor object at 0x7f1b464d0910>\n",
      "experiment name: minst_seboost\n",
      "INFO:tensorflow:No path found after /home/shai/tensorflow/generated_data/1765/events.out.tfevents.1507229823.gpu-plx03\n",
      "[{u'history_decay_rate': 1.0, u'n_epochs': 100, u'seed': 913526365, u'history_size': 10, u'anchor_size': 0, u'weight_decay': 0.0001, u'normalize_history_dirs': False, u'tensorboard_dir': u'/home/shai/tensorflow/generated_data/1765', u'num_of_batches_per_sesop': 10, u'lr': 0.1, u'disable_sesop_at_all': False, u'sesop_options': {u'gtol': 1e-06, u'maxiter': 200}, u'break_sesop_batch': False, u'disable_dropout_at_all': False, u'normalize_subspace': False, u'batch_size': 100, u'anchor_offsets': [], u'iters_per_sesop': 550, u'use_grad_dir': False, u'normalize_function_during_sesop': True, u'adaptable_learning_rate': False, u'seboost_base_method': u'SGD', u'per_variable': False, u'sesop_private_dataset': False, u'VECTOR_BREAKING': False, u'disable_dropout_during_sesop': False, u'fashion_mnist': True, u'model': u'wide-resnet', u'sesop_method': u'CG'}]\n",
      "databases = ['minst_seboost_db']\n",
      "cusor = <pymongo.cursor.Cursor object at 0x7f1b464d04d0>\n",
      "experiment name: minst_seboost\n"
     ]
    }
   ],
   "source": [
    "# Mnist CNN with weight decay\n",
    "query = {'$or': [\n",
    "        {'config.tensorboard_dir' : u'/home/shai/tensorflow/generated_data/1765'}] }\n",
    "\n",
    "\n",
    "#Plotter.accs_cache = {}\n",
    "accs, _, _, configs = Plotter.get_accs(client, ['minst_seboost_db'], query, ['lr'])\n",
    "print configs\n",
    "\n",
    "Plotter.plot(client, ['minst_seboost_db'], query, \n",
    "             'seboost_optimizer/sesop_optimizer/after_sesop/after_sesop_minibatch_loss', \n",
    "             ['lr'], scale_by_batch_size=None)\n",
    "\n",
    "# Plotter.plot(client, ['minst_seboost_db'], query, \n",
    "#              'seboost_optimizer/full_loss', \n",
    "#              ['lr'], scale_by_batch_size=None)\n",
    "\n",
    "plt.yscale('log')\n",
    "plt.title('SESOP-SGD on MNIST Classification')\n",
    "plt.xlabel('SESOP iteration')\n",
    "plt.ylabel('train loss on batch')\n",
    "\n",
    "plt.legend()\n",
    "plt.grid(True)\n",
    "plt.show()\n"
   ]
  },
  {
   "cell_type": "code",
   "execution_count": 409,
   "metadata": {
    "collapsed": false
   },
   "outputs": [
    {
     "name": "stdout",
     "output_type": "stream",
     "text": [
      "databases = ['minst_seboost_db']\n",
      "cusor = <pymongo.cursor.Cursor object at 0x7f1b37f73d10>\n",
      "experiment name: minst_seboost\n"
     ]
    }
   ],
   "source": [
    "accs = Plotter.get_accs(client, ['minst_seboost_db'], query, ['lr'])\n",
    "full_loss = accs[0][0].Scalars('seboost_optimizer/full_loss')\n",
    "\n",
    "full_loss_before = []\n",
    "full_loss_after = []\n",
    "for i in range(len(full_loss)/2):\n",
    "    full_loss_before.append(full_loss[2*i].value)\n",
    "    full_loss_after.append(full_loss[2*i + 1].value)\n",
    "    \n",
    "    \n",
    "plt.plot(full_loss_before, label='before')\n",
    "plt.plot(full_loss_after, label='after')\n",
    "plt.plot(full_loss_before, 'o')\n",
    "plt.plot(full_loss_after, 'o')\n",
    "\n",
    "plt.title('Full train loss before and after SESOP')\n",
    "plt.xlabel('SESOP iteration')\n",
    "plt.ylabel('loss')\n",
    "\n",
    "plt.yscale('log')\n",
    "plt.grid(True)\n",
    "plt.legend()\n",
    "plt.show()"
   ]
  },
  {
   "cell_type": "markdown",
   "metadata": {},
   "source": [
    "# The short blanket – too loosen optimization"
   ]
  },
  {
   "cell_type": "code",
   "execution_count": 395,
   "metadata": {
    "collapsed": false
   },
   "outputs": [
    {
     "name": "stdout",
     "output_type": "stream",
     "text": [
      "databases = ['minst_seboost_db']\n",
      "cusor = <pymongo.cursor.Cursor object at 0x7f1b5093ee10>\n",
      "experiment name: minst_seboost\n",
      "INFO:tensorflow:No path found after /home/shai/tensorflow/generated_data/1728/events.out.tfevents.1506539478.gpu-plx03\n",
      "[{u'history_decay_rate': 1.0, u'n_epochs': 100, u'seed': 913526365, u'history_size': 10, u'anchor_size': 0, u'weight_decay': 0.0, u'normalize_history_dirs': False, u'tensorboard_dir': u'/home/shai/tensorflow/generated_data/1728', u'num_of_batches_per_sesop': 10, u'lr': 0.1, u'disable_sesop_at_all': False, u'sesop_options': {u'gtol': 1e-06, u'maxiter': 200}, u'break_sesop_batch': False, u'disable_dropout_at_all': True, u'normalize_subspace': False, u'batch_size': 100, u'anchor_offsets': [], u'iters_per_sesop': 550, u'use_grad_dir': False, u'normalize_function_during_sesop': True, u'adaptable_learning_rate': False, u'seboost_base_method': u'SGD', u'per_variable': False, u'sesop_private_dataset': False, u'VECTOR_BREAKING': False, u'disable_dropout_during_sesop': True, u'sesop_method': u'CG'}]\n",
      "databases = ['minst_seboost_db']\n",
      "cusor = <pymongo.cursor.Cursor object at 0x7f1b51522450>\n",
      "experiment name: minst_seboost\n"
     ]
    }
   ],
   "source": [
    "\n",
    "# Mnist CNN without weight decay\n",
    "query = {'$or': [\n",
    "        {'config.tensorboard_dir' : u'/home/shai/tensorflow/generated_data/1728'}] }\n",
    "\n",
    "\n",
    "\n",
    "Plotter.accs_cache = {}\n",
    "accs, _, _, configs = Plotter.get_accs(client, ['minst_seboost_db'], query, ['lr'])\n",
    "print configs\n",
    "\n",
    "Plotter.plot(client, ['minst_seboost_db'], query, \n",
    "             'seboost_optimizer/sesop_optimizer/after_sesop/after_sesop_minibatch_loss', \n",
    "             ['lr', 'num_of_batches_per_sesop'], scale_by_batch_size=None)\n",
    "\n",
    "# Plotter.plot(client, ['minst_seboost_db'], query, \n",
    "#              'seboost_optimizer/full_loss', \n",
    "#              ['lr'], scale_by_batch_size=None)\n",
    "\n",
    "plt.yscale('log')\n",
    "plt.title('SESOP-SGD on MNIST Classification')\n",
    "plt.xlabel('SESOP iteration')\n",
    "plt.ylabel('train loss on batch')\n",
    "\n",
    "plt.legend()\n",
    "plt.grid(True)\n",
    "plt.show()"
   ]
  },
  {
   "cell_type": "code",
   "execution_count": 366,
   "metadata": {
    "collapsed": false
   },
   "outputs": [
    {
     "name": "stdout",
     "output_type": "stream",
     "text": [
      "databases = ['minst_seboost_db']\n",
      "cusor = <pymongo.cursor.Cursor object at 0x7f1b35ed2b50>\n",
      "experiment name: minst_seboost\n"
     ]
    }
   ],
   "source": [
    "accs = Plotter.get_accs(client, ['minst_seboost_db'], query, ['lr'])\n",
    "full_loss = accs[0][0].Scalars('seboost_optimizer/full_loss')\n",
    "\n",
    "full_loss_before = []\n",
    "full_loss_after = []\n",
    "for i in range(len(full_loss)/2):\n",
    "    full_loss_before.append(full_loss[2*i].value)\n",
    "    full_loss_after.append(full_loss[2*i + 1].value)\n",
    "    \n",
    "    \n",
    "plt.plot(full_loss_before, label='before')\n",
    "plt.plot(full_loss_after, label='after')\n",
    "plt.plot(full_loss_before, 'o')\n",
    "plt.plot(full_loss_after, 'o')\n",
    "\n",
    "plt.title('Full train loss before and after SESOP')\n",
    "plt.xlabel('SESOP iteration')\n",
    "plt.ylabel('loss')\n",
    "\n",
    "plt.yscale('log')\n",
    "plt.grid(True)\n",
    "plt.legend()\n",
    "plt.show()"
   ]
  },
  {
   "cell_type": "code",
   "execution_count": null,
   "metadata": {
    "collapsed": true
   },
   "outputs": [],
   "source": []
  },
  {
   "cell_type": "markdown",
   "metadata": {},
   "source": [
    "#  After SESOP - adjust the learning rate (before fix)"
   ]
  },
  {
   "cell_type": "code",
   "execution_count": 407,
   "metadata": {
    "collapsed": false
   },
   "outputs": [
    {
     "name": "stdout",
     "output_type": "stream",
     "text": [
      "databases = ['minst_seboost_db']\n",
      "cusor = <pymongo.cursor.Cursor object at 0x7f1b50d61ed0>\n",
      "experiment name: minst_seboost\n"
     ]
    }
   ],
   "source": [
    "\n",
    "# Fashion-Mnist Wide-Resnet without weight decay\n",
    "query = {'$or': [\n",
    "        {'config.tensorboard_dir' : u'/home/shai/tensorflow/generated_data/1766'}] }\n",
    "\n",
    "accs = Plotter.get_accs(client, ['minst_seboost_db'], query, ['lr'])\n",
    "full_loss = accs[0][0].Scalars('seboost_optimizer/full_loss')\n",
    "#base_optimizer/angle__u__v_\n",
    "\n",
    "full_loss_before = []\n",
    "full_loss_after = []\n",
    "for i in range(len(full_loss)/2):\n",
    "    full_loss_before.append(full_loss[2*i].value)\n",
    "    full_loss_after.append(full_loss[2*i + 1].value)\n",
    "    \n",
    "    \n",
    "plt.plot(full_loss_before, label='before')\n",
    "plt.plot(full_loss_after, label='after')\n",
    "plt.plot(full_loss_before, 'o')\n",
    "plt.plot(full_loss_after, 'o')\n",
    "\n",
    "plt.title('Full train loss before and after SESOP')\n",
    "plt.xlabel('SESOP iteration')\n",
    "plt.ylabel('loss')\n",
    "\n",
    "plt.yscale('log')\n",
    "plt.grid(True)\n",
    "plt.legend()\n",
    "plt.show()"
   ]
  },
  {
   "cell_type": "markdown",
   "metadata": {},
   "source": [
    "# Using SESOP to adjust the learning rate - cont 2"
   ]
  },
  {
   "cell_type": "code",
   "execution_count": 4,
   "metadata": {
    "collapsed": false
   },
   "outputs": [],
   "source": [
    "def get_angle(acc):\n",
    "    dot_p = [s.value for s in \\\n",
    "             acc.Scalars('seboost_optimizer/sesop_optimizer/after_sesop/sgd_sesop_dot_product')]\n",
    "    distance_seboost = [s.value for s in \\\n",
    "                        acc.Scalars('seboost_optimizer/sesop_optimizer/after_sesop/distance_seboost_moved')]\n",
    "    distance_sesop = [s.value for s in \\\n",
    "                      acc.Scalars('seboost_optimizer/sesop_optimizer/after_sesop/distance_sesop_moved')]\n",
    "\n",
    "    #distance_seboost**2 = (sgd + sesop)**2 = sgd**2 + sesop**2 + 2sgd*sesop\n",
    "    #sgd**2 = distance_seboost**2 - sesop**2 - 2*sgd*sesop\n",
    "    \n",
    "    distance_sgd = [(seboost**2 - sesop**2 - 2*d)**0.5 for seboost, sesop, d in \\\n",
    "                    zip(distance_seboost, distance_sesop, dot_p)]\n",
    "    return [d/(sgd*sesop) for sgd, sesop, d in zip(distance_sgd, distance_sesop, dot_p)]"
   ]
  },
  {
   "cell_type": "code",
   "execution_count": 11,
   "metadata": {
    "collapsed": false
   },
   "outputs": [
    {
     "name": "stdout",
     "output_type": "stream",
     "text": [
      "databases = ['minst_seboost_db']\n",
      "cusor = <pymongo.cursor.Cursor object at 0x7f62fecb3250>\n",
      "experiment name: minst_seboost\n",
      "experiment name: minst_seboost\n",
      "experiment name: minst_seboost\n",
      "databases = ['minst_seboost_db']\n",
      "cusor = <pymongo.cursor.Cursor object at 0x7f62e738b390>\n",
      "experiment name: minst_seboost\n",
      "experiment name: minst_seboost\n",
      "experiment name: minst_seboost\n"
     ]
    }
   ],
   "source": [
    "#angle\n",
    "query = {'$or': [\n",
    "    {'config.tensorboard_dir' : u'/home/shai/tensorflow/generated_data/1942'},\n",
    "   {'config.tensorboard_dir' : u'/home/shai/tensorflow/generated_data/1969'},\n",
    "    {'config.tensorboard_dir' : u'/home/shai/tensorflow/generated_data/1992'}] }\n",
    "query = {'$or': [\n",
    "    {'config.tensorboard_dir' : u'/home/shai/tensorflow/generated_data/1940'},\n",
    "   {'config.tensorboard_dir' : u'/home/shai/tensorflow/generated_data/1966'},\n",
    "    {'config.tensorboard_dir' : u'/home/shai/tensorflow/generated_data/1988'}] }\n",
    "query = {'$or': [\n",
    "    {'config.tensorboard_dir' : u'/home/shai/tensorflow/generated_data/1943'},\n",
    "   {'config.tensorboard_dir' : u'/home/shai/tensorflow/generated_data/1944'},\n",
    "    {'config.tensorboard_dir' : u'/home/shai/tensorflow/generated_data/1967'}] }\n",
    "\n",
    "accs,_,__,configs = Plotter.get_accs(client, ['minst_seboost_db'], query, \n",
    "                        ['lr', 'disable_sesop_at_all', 'tensorboard_dir'])\n",
    "\n",
    "plt.plot(get_angle(accs[0]), label='adaptable_learning_rate = ' + str(configs[0]['adaptable_learning_rate']))\n",
    "\n",
    "plt.plot(get_angle(accs[1]), label='adaptable_learning_rate = ' + str(configs[1]['adaptable_learning_rate']))\n",
    "plt.legend()\n",
    "plt.grid(True)\n",
    "plt.xlabel('epoch')\n",
    "plt.ylabel('Cos Angle')\n",
    "plt.show()\n",
    "\n",
    "#learning rates\n",
    "lr1 = [s.value for s in \\\n",
    "             accs[0].Scalars('seboost_optimizer/learning_rate')]\n",
    "lr2 = [s.value for s in \\\n",
    "             accs[1].Scalars('seboost_optimizer/learning_rate')]\n",
    "\n",
    "plt.plot(lr1, label='adaptable_learning_rate = ' + str(configs[0]['adaptable_learning_rate']))\n",
    "\n",
    "plt.plot(lr2, label='adaptable_learning_rate = ' + str(configs[1]['adaptable_learning_rate']))\n",
    "plt.legend()\n",
    "plt.grid(True)\n",
    "plt.xlabel('Iteration')\n",
    "plt.ylabel('Learning rate')\n",
    "plt.show()\n",
    "\n",
    "\n",
    "Plotter.plot(client, ['minst_seboost_db'], query, \n",
    "             'train_loss', \n",
    "             ['lr', 'disable_sesop_at_all', 'adaptable_learning_rate'], scale_by_batch_size=None)\n",
    "\n",
    "plt.yscale('log')\n",
    "plt.title('Wide Resnet on Fashion MNIST')\n",
    "plt.xlabel('epoch')\n",
    "plt.ylabel('train loss')\n",
    "\n",
    "plt.legend()\n",
    "plt.grid(True)\n",
    "plt.show()"
   ]
  },
  {
   "cell_type": "code",
   "execution_count": 527,
   "metadata": {
    "collapsed": false
   },
   "outputs": [
    {
     "name": "stdout",
     "output_type": "stream",
     "text": [
      "databases = ['minst_seboost_db']\n",
      "cusor = <pymongo.cursor.Cursor object at 0x7f1b4e118950>\n",
      "experiment name: minst_seboost\n",
      "experiment name: minst_seboost\n",
      "experiment name: minst_seboost\n",
      "INFO:tensorflow:No path found after /home/shai/tensorflow/generated_data/1940/events.out.tfevents.1507795410.gpu-plx03\n",
      "INFO:tensorflow:No path found after /home/shai/tensorflow/generated_data/1966/events.out.tfevents.1507800441.gpu-plx03\n",
      "INFO:tensorflow:No path found after /home/shai/tensorflow/generated_data/1988/events.out.tfevents.1507803276.gpu-plx03\n"
     ]
    }
   ],
   "source": [
    "query = {'$or': [\n",
    "    {'config.tensorboard_dir' : u'/home/shai/tensorflow/generated_data/1940'},\n",
    "   {'config.tensorboard_dir' : u'/home/shai/tensorflow/generated_data/1966'},\n",
    "    {'config.tensorboard_dir' : u'/home/shai/tensorflow/generated_data/1988'}] }\n",
    "\n",
    "# accs = Plotter.get_accs(client, ['minst_seboost_db'], query, ['lr'])\n",
    "# full_loss = accs[0][0].Scalars('seboost_optimizer/full_loss')\n",
    "\n"
   ]
  },
  {
   "cell_type": "markdown",
   "metadata": {},
   "source": [
    "# MNIST Autoencoder optimized with SESOP-SGD"
   ]
  },
  {
   "cell_type": "code",
   "execution_count": 353,
   "metadata": {
    "collapsed": false
   },
   "outputs": [
    {
     "name": "stdout",
     "output_type": "stream",
     "text": [
      "databases = ['minst_autoencoder_seboost_db']\n",
      "cusor = <pymongo.cursor.Cursor object at 0x7f1b4716bb50>\n",
      "experiment name: minst_autoencoder_seboost\n",
      "experiment name: minst_autoencoder_seboost\n",
      "INFO:tensorflow:No path found after /home/shai/tensorflow/generated_data/473/events.out.tfevents.1502037618.gpu-plx01\n",
      "INFO:tensorflow:No path found after /home/shai/tensorflow/generated_data/477/events.out.tfevents.1502038783.gpu-plx01\n"
     ]
    }
   ],
   "source": [
    "# query = {'$or': [\n",
    "#         {'config.tensorboard_dir' : u'/home/shai/tensorflow/generated_data/459'},\n",
    "#         {'config.tensorboard_dir' : u'/home/shai/tensorflow/generated_data/460'}] }\n",
    "# query = {'$or': [\n",
    "#         {'config.tensorboard_dir' : u'/home/shai/tensorflow/generated_data/623'},\n",
    "#         {'config.tensorboard_dir' : u'/home/shai/tensorflow/generated_data/624'}] }\n",
    "\n",
    "query = {'$or': [\n",
    "        {'config.tensorboard_dir' : u'/home/shai/tensorflow/generated_data/473'},\n",
    "        {'config.tensorboard_dir' : u'/home/shai/tensorflow/generated_data/477'}] }\n",
    "\n",
    "Plotter.plot(client, ['minst_autoencoder_seboost_db'], query, \n",
    "             'train_loss', \n",
    "             ['lr', 'disable_sesop_at_all'], scale_by_batch_size=None)\n",
    "\n",
    "plt.yscale('log')\n",
    "plt.title('SESOP-SGD on MNIST Autoencoder')\n",
    "plt.xlabel('epoch')\n",
    "plt.ylabel('train loss')\n",
    "\n",
    "plt.legend()\n",
    "plt.grid(True)\n",
    "plt.show()"
   ]
  },
  {
   "cell_type": "markdown",
   "metadata": {
    "collapsed": true
   },
   "source": [
    "# Adjust learning rate by SESOP"
   ]
  },
  {
   "cell_type": "code",
   "execution_count": 310,
   "metadata": {
    "collapsed": false
   },
   "outputs": [
    {
     "name": "stdout",
     "output_type": "stream",
     "text": [
      "databases = ['minst_autoencoder_seboost_db']\n",
      "cusor = <pymongo.cursor.Cursor object at 0x7f1b362d7d50>\n",
      "experiment name: minst_autoencoder_seboost\n",
      "experiment name: minst_autoencoder_seboost\n",
      "INFO:tensorflow:No path found after /home/shai/tensorflow/generated_data/477/events.out.tfevents.1502038783.gpu-plx01\n",
      "INFO:tensorflow:No path found after /home/shai/tensorflow/generated_data/478/events.out.tfevents.1502039509.gpu-plx01\n"
     ]
    }
   ],
   "source": [
    "query = {'$or': [\n",
    "        {'config.tensorboard_dir' : u'/home/shai/tensorflow/generated_data/477'},\n",
    "    {'config.tensorboard_dir' : u'/home/shai/tensorflow/generated_data/478'}] }\n",
    "accs = Plotter.get_accs(client, ['minst_autoencoder_seboost_db'], query, ['lr'])\n"
   ]
  },
  {
   "cell_type": "code",
   "execution_count": null,
   "metadata": {
    "collapsed": false,
    "scrolled": true
   },
   "outputs": [],
   "source": [
    "def get_angle(acc):\n",
    "    dot_p = [s.value for s in \\\n",
    "             acc.Scalars('seboost_optimizer/sesop_optimizer/after_sesop/sgd_sesop_dot_product')]\n",
    "    distance_seboost = [s.value for s in \\\n",
    "                        acc.Scalars('seboost_optimizer/sesop_optimizer/after_sesop/distance_seboost_moved')]\n",
    "    distance_sesop = [s.value for s in \\\n",
    "                      acc.Scalars('seboost_optimizer/sesop_optimizer/after_sesop/distance_sesop_moved')]\n",
    "\n",
    "    #distance_seboost**2 = (sgd + sesop)**2 = sgd**2 + sesop**2 + 2sgd*sesop\n",
    "    #sgd**2 = distance_seboost**2 - sesop**2 - 2*sgd*sesop\n",
    "    \n",
    "    distance_sgd = [(seboost**2 - sesop**2 - 2*d)**0.5 for seboost, sesop, d in \\\n",
    "                    zip(distance_seboost, distance_sesop, dot_p)]\n",
    "    return [d/(sgd*sesop) for sgd, sesop, d in zip(distance_sgd, distance_sesop, dot_p)]"
   ]
  },
  {
   "cell_type": "code",
   "execution_count": 311,
   "metadata": {
    "collapsed": false
   },
   "outputs": [
    {
     "name": "stdout",
     "output_type": "stream",
     "text": [
      "databases = ['minst_autoencoder_seboost_db']\n",
      "cusor = <pymongo.cursor.Cursor object at 0x7f1b51ba8610>\n",
      "experiment name: minst_autoencoder_seboost\n",
      "experiment name: minst_autoencoder_seboost\n"
     ]
    }
   ],
   "source": [
    "Plotter.plot(client, ['minst_autoencoder_seboost_db'], query, \n",
    "             'seboost_optimizer/sesop_optimizer/after_sesop/sgd_sesop_dot_product', \n",
    "             ['lr', 'adaptable_learning_rate'], scale_by_batch_size=None)\n",
    "\n",
    "#'seboost_optimizer/sesop_optimizer/after_sesop/sgd_sesop_dot_product'\n",
    "\n",
    "#'seboost_optimizer/full_loss'\n",
    "plt.title('Adaptable learning rate affect for SESOP')\n",
    "plt.xlabel('1/2 epoch')\n",
    "plt.ylabel('dot product')\n",
    "\n",
    "plt.legend()\n",
    "plt.grid(True)\n",
    "plt.show()\n"
   ]
  },
  {
   "cell_type": "code",
   "execution_count": 104,
   "metadata": {
    "collapsed": true
   },
   "outputs": [],
   "source": [
    "dotp = np.asarray([s.value for s in accs[0][0].Scalars('Train/Model/base_optimizer/dot__u__v_')])\n",
    "u_norm = np.asarray([s.value for s in accs[0][0].Scalars('Train/Model/base_optimizer/u_norm')])\n",
    "v_norm = np.asarray([s.value for s in accs[0][0].Scalars('Train/Model/base_optimizer/v_norm')])\n",
    "\n",
    "\n"
   ]
  },
  {
   "cell_type": "code",
   "execution_count": 105,
   "metadata": {
    "collapsed": false
   },
   "outputs": [
    {
     "name": "stderr",
     "output_type": "stream",
     "text": [
      "/home/shai/anaconda/lib/python2.7/site-packages/ipykernel/__main__.py:4: RuntimeWarning: invalid value encountered in divide\n"
     ]
    }
   ],
   "source": [
    "domi = (u_norm**2 + 2*dotp + v_norm**2)*(u_norm**2)*(v_norm**2)\n",
    "denano = dotp**2\n",
    "\n",
    "ratio = domi/denano\n"
   ]
  },
  {
   "cell_type": "code",
   "execution_count": 108,
   "metadata": {
    "collapsed": false
   },
   "outputs": [
    {
     "name": "stderr",
     "output_type": "stream",
     "text": [
      "/home/shai/anaconda/lib/python2.7/site-packages/ipykernel/__main__.py:2: RuntimeWarning: invalid value encountered in divide\n",
      "  from ipykernel import kernelapp as app\n"
     ]
    }
   ],
   "source": [
    "#plt.plot(ratio[2:]**0.5)\n",
    "plt.plot(dotp/(u_norm*v_norm), label='dot')\n",
    "#plt.plot(u_norm*v_norm)\n",
    "#plt.plot(v_norm)\n",
    "#plt.yscale('log')\n",
    "plt.grid(True)\n",
    "plt.legend()\n",
    "plt.show()"
   ]
  },
  {
   "cell_type": "markdown",
   "metadata": {},
   "source": [
    "# test accuracy"
   ]
  },
  {
   "cell_type": "code",
   "execution_count": 291,
   "metadata": {
    "collapsed": false
   },
   "outputs": [
    {
     "name": "stdout",
     "output_type": "stream",
     "text": [
      "experiment name: cifar_sgd_adjust\n",
      "experiment name: cifar_sgd_adjust\n",
      "experiment name: cifar_sgd_adjust\n"
     ]
    }
   ],
   "source": [
    "#{u'state_of_the_art': True, u'per_variable': False, \n",
    "#u'iters_per_adjust': 250, u'num_residual_units': 4, u'relu_leakiness': 0.1, \n",
    "#u'batch_size': 100, u'n_epochs': 100, u'base_optimizer': u'SGD', \n",
    "#u'seed': 402831889, u'lr': 0.1, u'beta2': 0.999, u'beta1': 0.9, u'rho': 0.95, u'use_bottleneck': False, \n",
    "#u'tensorboard_dir': u'/home/shai/tensorflow/generated_data/167', u'weight_decay_rate': 0.0002}\n",
    "\n",
    "\n",
    "# Plotter.plot_max(client, ['cifar_ten'], {'config.state_of_the_art' : True}, 'test_accuracy', \n",
    "#                  asked_labels=['base_optimizer', 'state_of_the_art', 'iters_per_adjust'])\n",
    "\n",
    "# query = {'$or': [{'config.tensorboard_dir' : u'/home/shai/tensorflow/generated_data/289'}, \n",
    "#                 {'config.tensorboard_dir' : u'/home/shai/tensorflow/generated_data/290'},\n",
    "#                 {'config.tensorboard_dir' : u'/home/shai/tensorflow/generated_data/291'}]}\n",
    "query = {'$or': [\n",
    "                {'config.tensorboard_dir' : u'/home/shai/tensorflow/generated_data/166'},\n",
    "#         {'config.tensorboard_dir' : u'/home/shai/tensorflow/generated_data/713'},\n",
    "#         {'config.tensorboard_dir' : u'/home/shai/tensorflow/generated_data/712'},\n",
    "                {'config.tensorboard_dir' : u'/home/shai/tensorflow/generated_data/167'},\n",
    "                {'config.tensorboard_dir' : u'/home/shai/tensorflow/generated_data/168'}\n",
    "        #Adjust SGD\n",
    "#                 {'config.tensorboard_dir' : u'/home/shai/tensorflow/generated_data/316'},\n",
    "#                 {'config.tensorboard_dir' : u'/home/shai/tensorflow/generated_data/314'},\n",
    "#                 {'config.tensorboard_dir' : u'/home/shai/tensorflow/generated_data/313'},\n",
    "#                 {'config.tensorboard_dir' : u'/home/shai/tensorflow/generated_data/308'}\n",
    "                #{'config.tensorboard_dir' : u'/home/shai/tensorflow/generated_data/290'},\n",
    "                #SEBOOST\n",
    "#         {'config.tensorboard_dir' : u'/home/shai/tensorflow/generated_data/705'},\n",
    "# #                  {'config.tensorboard_dir' : u'/home/shai/tensorflow/generated_data/704'},\n",
    "# #                 {'config.tensorboard_dir' : u'/home/shai/tensorflow/generated_data/702'},\n",
    "#                  {'config.tensorboard_dir' : u'/home/shai/tensorflow/generated_data/712'},\n",
    "        \n",
    "#                  {'config.tensorboard_dir' : u'/home/shai/tensorflow/generated_data/711'},\n",
    "#                  {'config.tensorboard_dir' : u'/home/shai/tensorflow/generated_data/708'},\n",
    "#                 {'config.tensorboard_dir' : u'/home/shai/tensorflow/generated_data/707'}\n",
    "                ]}\n",
    "\n",
    "#Plotter.accs_cache = {}\n",
    "Plotter.plot(client, ['mnist','cifar_ten', 'minst_seboost_db', 'physics_seboost_db', 'physics_alternative_db'], \n",
    "                 query, \n",
    "                 'test_loss',\n",
    "                 #'train_loss',\n",
    "                  asked_labels=['iters_per_adjust', 'batch_size', 'dont_run_sesop', 'lr', 'anchor_size'], \n",
    "             scale_by_batch_size=lambda b: 1.0)\n",
    "plt.grid(True)\n",
    "plt.xscale('log')\n",
    "plt.yscale('log')\n",
    "plt.legend()\n",
    "plt.show()\n",
    "\n",
    "#plt.yscale('log')"
   ]
  },
  {
   "cell_type": "markdown",
   "metadata": {},
   "source": [
    "# Time to accuracy"
   ]
  },
  {
   "cell_type": "code",
   "execution_count": 270,
   "metadata": {
    "collapsed": false
   },
   "outputs": [
    {
     "name": "stdout",
     "output_type": "stream",
     "text": [
      "experiment name: minst_sgd_adjust\n",
      "experiment name: minst_sgd_adjust\n",
      "experiment name: minst_seboost\n"
     ]
    }
   ],
   "source": [
    "query = {'$or': [\n",
    "                {'config.tensorboard_dir' : u'/home/shai/tensorflow/generated_data/291'},\n",
    "        #Adjust SGD\n",
    "#                 {'config.tensorboard_dir' : u'/home/shai/tensorflow/generated_data/313'},\n",
    "                 {'config.tensorboard_dir' : u'/home/shai/tensorflow/generated_data/316'},\n",
    "#                 {'config.tensorboard_dir' : u'/home/shai/tensorflow/generated_data/317'},\n",
    "        \n",
    "        #SEBOOST\n",
    "                 #{'config.tensorboard_dir' : u'/home/shai/tensorflow/generated_data/321'},\n",
    "                 {'config.tensorboard_dir' : u'/home/shai/tensorflow/generated_data/323'}\n",
    "                #{'config.tensorboard_dir' : u'/home/shai/tensorflow/generated_data/290'},\n",
    "                ]}\n",
    "\n",
    "Plotter.plot_time_to_accuracy(client, ['mnist', 'minst_seboost_db'], \n",
    "                 query, \n",
    "                 'test_accuracy', \n",
    "                  asked_labels=['base_optimizer', 'batch_size', 'iters_per_adjust', 'weighted_batch'])\n",
    "\n",
    "\n",
    "plt.xlabel('test accuracy')\n",
    "plt.ylabel('expected time (epoch/batch_size) to get there')\n",
    "#plt.yscale('log')\n",
    "#plt.yscale('log')\n",
    "ax = plt.gca()\n",
    "#ax.set_xticks(np.arange(0.978, 0.994, 0.0001))\n",
    "plt.grid(True)\n",
    "plt.legend()\n",
    "plt.show()"
   ]
  },
  {
   "cell_type": "markdown",
   "metadata": {},
   "source": [
    "# Speedup"
   ]
  },
  {
   "cell_type": "code",
   "execution_count": 257,
   "metadata": {
    "collapsed": false
   },
   "outputs": [
    {
     "name": "stdout",
     "output_type": "stream",
     "text": [
      "experiment name: minst_sgd_adjust\n",
      "experiment name: minst_sgd_adjust\n",
      "experiment name: minst_sgd_adjust\n",
      "experiment name: minst_sgd_adjust\n",
      "experiment name: minst_sgd_adjust\n",
      "experiment name: minst_sgd_adjust\n",
      "experiment name: minst_sgd_adjust\n",
      "experiment name: minst_sgd_adjust\n"
     ]
    }
   ],
   "source": [
    "ref_query = {'$or': [\n",
    "                {'config.tensorboard_dir' : u'/home/shai/tensorflow/generated_data/291'}]}\n",
    "\n",
    "query = {'$or': [\n",
    "                {'config.tensorboard_dir' : u'/home/shai/tensorflow/generated_data/291'},\n",
    "                {'config.tensorboard_dir' : u'/home/shai/tensorflow/generated_data/296'},\n",
    "                {'config.tensorboard_dir' : u'/home/shai/tensorflow/generated_data/308'},\n",
    "                {'config.tensorboard_dir' : u'/home/shai/tensorflow/generated_data/313'},\n",
    "                {'config.tensorboard_dir' : u'/home/shai/tensorflow/generated_data/314'},\n",
    "                {'config.tensorboard_dir' : u'/home/shai/tensorflow/generated_data/316'},\n",
    "                {'config.tensorboard_dir' : u'/home/shai/tensorflow/generated_data/317'}\n",
    "                #{'config.tensorboard_dir' : u'/home/shai/tensorflow/generated_data/290'},\n",
    "                ]}\n",
    "\n",
    "Plotter.plot_speedup_to_accuracy(client, ['mnist'], \n",
    "                 ref_query,\n",
    "                 query, \n",
    "                 'test_accuracy', \n",
    "                  asked_labels=['base_optimizer', 'batch_size', 'iters_per_adjust', 'weighted_batch'])\n",
    "\n",
    "\n",
    "plt.xlabel('test accuracy')\n",
    "plt.ylabel('expected speedup to accuracy')\n",
    "#plt.yscale('log')\n",
    "#plt.yscale('log')\n",
    "ax = plt.gca()\n",
    "#ax.set_xticks(np.arange(0.978, 0.994, 0.0001))\n",
    "plt.grid(True)\n",
    "plt.legend()\n",
    "plt.show()\n",
    "\n",
    "\n"
   ]
  },
  {
   "cell_type": "markdown",
   "metadata": {},
   "source": [
    "# Learning rate"
   ]
  },
  {
   "cell_type": "code",
   "execution_count": 210,
   "metadata": {
    "collapsed": false
   },
   "outputs": [
    {
     "name": "stdout",
     "output_type": "stream",
     "text": [
      "experiment name: minst_sgd_adjust\n",
      "experiment name: minst_sgd_adjust\n",
      "experiment name: minst_sgd_adjust\n"
     ]
    }
   ],
   "source": [
    "query = {'$or': [\n",
    "                {'config.tensorboard_dir' : u'/home/shai/tensorflow/generated_data/313'},\n",
    "                {'config.tensorboard_dir' : u'/home/shai/tensorflow/generated_data/316'},\n",
    "                {'config.tensorboard_dir' : u'/home/shai/tensorflow/generated_data/317'}\n",
    "                #{'config.tensorboard_dir' : u'/home/shai/tensorflow/generated_data/290'},\n",
    "                ]}\n",
    "Plotter.plot(client, ['mnist'], \n",
    "                 query, \n",
    "                 'base_optimizer/learning_rate', \n",
    "                 #'test_accuracy', \n",
    "                  asked_labels=['base_optimizer', 'batch_size', 'iters_per_adjust', 'weighted_batch'], \n",
    "             scale_by_batch_size=lambda b: 1.0/b**0.5)\n",
    "plt.legend()\n",
    "plt.show()\n"
   ]
  },
  {
   "cell_type": "code",
   "execution_count": 63,
   "metadata": {
    "collapsed": false
   },
   "outputs": [],
   "source": [
    "acc = accs[0]"
   ]
  },
  {
   "cell_type": "code",
   "execution_count": 99,
   "metadata": {
    "collapsed": false
   },
   "outputs": [],
   "source": [
    "\n",
    "plt.show()"
   ]
  },
  {
   "cell_type": "code",
   "execution_count": 125,
   "metadata": {
    "collapsed": false
   },
   "outputs": [],
   "source": [
    "plt.xlabel('expected time (epoch/batch_size)')\n",
    "plt.ylabel('test accuracy')\n",
    "#plt.yscale('log')\n",
    "\n",
    "plt.grid(True)\n",
    "plt.legend()\n",
    "plt.show()"
   ]
  },
  {
   "cell_type": "code",
   "execution_count": 56,
   "metadata": {
    "collapsed": false
   },
   "outputs": [
    {
     "data": {
      "text/plain": [
       "0.057287363799995994"
      ]
     },
     "execution_count": 56,
     "metadata": {},
     "output_type": "execute_result"
    }
   ],
   "source": [
    "(0.993073 - 0.992500126362)*100"
   ]
  },
  {
   "cell_type": "markdown",
   "metadata": {},
   "source": [
    "# Plot parabula"
   ]
  },
  {
   "cell_type": "code",
   "execution_count": 11,
   "metadata": {
    "collapsed": false
   },
   "outputs": [],
   "source": [
    "query = {'$or': [\n",
    "                {'config.tensorboard_dir' : u'/home/shai/tensorflow/generated_data/420'},\n",
    "        {'config.tensorboard_dir' : u'/home/shai/tensorflow/generated_data/421'}\n",
    "                ]}\n",
    "accs = Plotter.get_accs(client, ['minst_seboost_db'], query, \n",
    "                 ['base_optimizer', 'batch_size', 'iters_per_adjust', 'weighted_batch', 'lr'],)"
   ]
  },
  {
   "cell_type": "markdown",
   "metadata": {},
   "source": []
  },
  {
   "cell_type": "markdown",
   "metadata": {},
   "source": [
    "# Loss"
   ]
  },
  {
   "cell_type": "code",
   "execution_count": 154,
   "metadata": {
    "collapsed": false
   },
   "outputs": [
    {
     "name": "stdout",
     "output_type": "stream",
     "text": [
      "experiment name: minst_autoencoder_seboost\n",
      "experiment name: minst_autoencoder_seboost\n",
      "experiment name: minst_autoencoder_seboost\n",
      "experiment name: minst_autoencoder_seboost\n",
      "experiment name: minst_autoencoder_seboost\n",
      "INFO:tensorflow:No path found after /home/shai/tensorflow/generated_data/459/events.out.tfevents.1502025611.gpu-plx01\n",
      "INFO:tensorflow:No path found after /home/shai/tensorflow/generated_data/472/events.out.tfevents.1502037604.gpu-plx01\n",
      "INFO:tensorflow:No path found after /home/shai/tensorflow/generated_data/597/events.out.tfevents.1502140149.gpu-plx01\n",
      "INFO:tensorflow:No path found after /home/shai/tensorflow/generated_data/598/events.out.tfevents.1502140158.gpu-plx01\n",
      "INFO:tensorflow:No path found after /home/shai/tensorflow/generated_data/599/events.out.tfevents.1502140168.gpu-plx01\n"
     ]
    }
   ],
   "source": [
    "#326 (mnist seboost) vs 169 ()\n",
    "query = {'$or': [\n",
    "        {'config.tensorboard_dir' : u'/home/shai/tensorflow/generated_data/597'},\n",
    "        {'config.tensorboard_dir' : u'/home/shai/tensorflow/generated_data/598'},\n",
    "        {'config.tensorboard_dir' : u'/home/shai/tensorflow/generated_data/599'},\n",
    "        {'config.tensorboard_dir' : u'/home/shai/tensorflow/generated_data/472'},\n",
    "        {'config.tensorboard_dir' : u'/home/shai/tensorflow/generated_data/459'}\n",
    "        ]}\n",
    "\n",
    "Plotter.accs_cache = {}\n",
    "Plotter.plot(client, ['minst_autoencoder_seboost_db', 'synthesised_seboost_db' ,'minst_seboost_db', 'mnist'], \n",
    "                 query, \n",
    "                 #'base_optimizer/learning_rate', \n",
    "                 'train_loss',\n",
    "                 #'train_accuracy',\n",
    "                 #'test_accuracy',\n",
    "                  asked_labels=['disable_sesop_at_all', 'lr', 'anchor_size', 'history_size', 'sesop_private_dataset',\n",
    "                               'VECTOR_BREAKING', 'normalize_function_during_sesop'], \n",
    "             scale_by_batch_size=lambda b: 1.0)\n",
    "\n",
    "plt.yscale('log')\n",
    "plt.grid(True)\n",
    "plt.legend()\n",
    "plt.show()\n"
   ]
  },
  {
   "cell_type": "code",
   "execution_count": 23,
   "metadata": {
    "collapsed": false
   },
   "outputs": [
    {
     "name": "stdout",
     "output_type": "stream",
     "text": [
      "experiment name: synthesised_seboost\n",
      "experiment name: synthesised_seboost\n",
      "INFO:tensorflow:No path found after /home/shai/tensorflow/generated_data/420/events.out.tfevents.1501772767.gpu-plx01\n",
      "INFO:tensorflow:No path found after /home/shai/tensorflow/generated_data/421/events.out.tfevents.1501772778.gpu-plx01\n",
      "experiment name: synthesised_seboost\n",
      "experiment name: synthesised_seboost\n"
     ]
    }
   ],
   "source": [
    "query = {'$or': [\n",
    "                {'config.tensorboard_dir' : u'/home/shai/tensorflow/generated_data/420'},\n",
    "        {'config.tensorboard_dir' : u'/home/shai/tensorflow/generated_data/421'}\n",
    "                ]}\n",
    "accs = Plotter.get_accs(client, ['synthesised_seboost_db'], query, \n",
    "                 ['base_optimizer', 'batch_size', 'iters_per_adjust', 'weighted_batch', 'lr'],)\n",
    "\n",
    "Plotter.plot(client, ['synthesised_seboost_db'], \n",
    "                 query, \n",
    "                 #'base_optimizer/learning_rate', \n",
    "                 'train_loss', \n",
    "                  asked_labels=['base_optimizer', 'batch_size', 'iters_per_adjust', 'weighted_batch'], \n",
    "             scale_by_batch_size=lambda b: 1.0)\n",
    "plt.yscale('log')\n",
    "plt.grid(True)\n",
    "plt.legend()\n",
    "plt.show()"
   ]
  },
  {
   "cell_type": "code",
   "execution_count": null,
   "metadata": {
    "collapsed": false
   },
   "outputs": [],
   "source": []
  },
  {
   "cell_type": "markdown",
   "metadata": {
    "collapsed": true
   },
   "source": [
    "# Overfit debugging"
   ]
  },
  {
   "cell_type": "code",
   "execution_count": 128,
   "metadata": {
    "collapsed": false
   },
   "outputs": [
    {
     "name": "stdout",
     "output_type": "stream",
     "text": [
      "experiment name: synthesised_seboost\n",
      "INFO:tensorflow:No path found after /home/shai/tensorflow/generated_data/566/events.out.tfevents.1502131710.gpu-plx01\n",
      "([<tensorflow.python.summary.event_accumulator.EventAccumulator object at 0x7f5eb1610c50>], [['base_optimizer=None', 'batch_size=10', 'iters_per_adjust=None', 'weighted_batch=None', 'lr=0.09']], [10])\n",
      "15\n",
      "15\n",
      "15\n"
     ]
    }
   ],
   "source": [
    "Plotter.accs_cache = {}\n",
    "query = {'$or': [\n",
    "                {'config.tensorboard_dir' : u'/home/shai/tensorflow/generated_data/566'}\n",
    "                ]}\n",
    "\n",
    "accs = Plotter.get_accs(client, ['synthesised_seboost_db', 'minst_seboost_db'], query, \n",
    "                 ['base_optimizer', 'batch_size', 'iters_per_adjust', 'weighted_batch', 'lr'],)\n",
    "\n",
    "print accs\n",
    "#u'seboost_optimizer/sesop_optimizer/after_sesop/before_sesop_minibatch_loss\n",
    "acc = accs[0][0]\n",
    "\n",
    "\n",
    "\n",
    "\n",
    "_before = accs[0][0].Scalars('seboost_optimizer/sesop_optimizer/after_sesop/before_sesop_minibatch_loss')\n",
    "after = accs[0][0].Scalars('seboost_optimizer/sesop_optimizer/after_sesop/after_sesop_minibatch_loss')\n",
    "_full_loss = accs[0][0].Scalars('seboost_optimizer/full_loss')\n",
    "\n",
    "_full_loss_before = [s for i, s in enumerate(_full_loss) if s.step%2 == 0]\n",
    "full_loss_before = _full_loss_before[0:len(after)]\n",
    "\n",
    "_full_loss_after = [s for i, s in enumerate(_full_loss) if s.step%2 == 1]\n",
    "full_loss_after = _full_loss_after[0:len(after)]\n",
    "\n",
    "\n",
    "#print accs[0][0].Tags()\n",
    "before = _before[0:len(after)]\n",
    "print len(before)\n",
    "print len(after)\n",
    "print len(full_loss_before)\n",
    "\n",
    "plt.plot([s.step for s in before], [s.value for s in before], label='before')\n",
    "plt.plot([s.step for s in before], [s.value for s in after], label='after')\n",
    "plt.plot([s.step for s in before], [s.value for s in full_loss_before], label='full_loss_before')\n",
    "plt.plot([s.step for s in before], [s.value for s in full_loss_after], label='full_loss_after')\n",
    "plt.grid(True)\n",
    "plt.yscale('log')\n",
    "plt.legend()\n",
    "plt.show()"
   ]
  },
  {
   "cell_type": "code",
   "execution_count": 51,
   "metadata": {
    "collapsed": false
   },
   "outputs": [],
   "source": [
    "#326 vs 169\n",
    "\n"
   ]
  },
  {
   "cell_type": "markdown",
   "metadata": {},
   "source": [
    "# Create vector drawing"
   ]
  },
  {
   "cell_type": "code",
   "execution_count": 14,
   "metadata": {
    "collapsed": false
   },
   "outputs": [],
   "source": [
    "plt.figure()\n",
    "ax = plt.gca()\n",
    "\n",
    "head_length = 0.5\n",
    "\n",
    "#u\n",
    "ax.text(3.2, 2.1, r'$u$', fontsize=24)\n",
    "ax.arrow(2, 2, 2, 0, head_width=0.5, head_length=0.5, fc='g', ec='k')\n",
    "\n",
    "#v\n",
    "ax.text(5.7, 0.8, r'$v$', fontsize=24)\n",
    "ax.arrow(4 + head_length, 2, 2, -2, head_width=0.5, head_length=0.5, fc='r', ec='k')\n",
    "\n",
    "#u+v\n",
    "ax.text(3.0, 0.7, r'$v+u$', fontsize=24, rotation=-25)\n",
    "ax.arrow(2, 2, 4, -2, head_width=0.5, head_length=0.5, fc='b', ec='k')\n",
    "\n",
    "#projection:\n",
    "#linestyle='dashed'\n",
    "#ax.text(4, 0.7, r'$\\cos(2 \\pi t) \\exp(-t)$')\n",
    "ax.text(5.0, 2.7, r'$\\frac{(v+u)^Tu}{\\Vert{u}\\Vert}$', fontsize=24)\n",
    "ax.arrow(4 + head_length, 2, 2, 0, head_width=0.5, head_length=0.5, fc='k', ec='k', linestyle='dashed')\n",
    "\n",
    "\n",
    "ax.set_xlim([-1, 10])\n",
    "ax.set_ylim([-1, 10])\n",
    "plt.draw()\n",
    "plt.show()"
   ]
  },
  {
   "cell_type": "markdown",
   "metadata": {},
   "source": [
    "# GRAD NORM\n"
   ]
  },
  {
   "cell_type": "code",
   "execution_count": 78,
   "metadata": {
    "collapsed": false
   },
   "outputs": [
    {
     "name": "stdout",
     "output_type": "stream",
     "text": [
      "experiment name: synthesised_seboost\n",
      "INFO:tensorflow:No path found after /home/shai/tensorflow/generated_data/495/events.out.tfevents.1502051367.gpu-plx01\n"
     ]
    }
   ],
   "source": [
    "query = {'$or': [\n",
    "                {'config.tensorboard_dir' : u'/home/shai/tensorflow/generated_data/495'}\n",
    "                ]}\n",
    "accs = Plotter.get_accs(client, ['synthesised_seboost_db' , 'minst_autoencoder_seboost_db'], query, \n",
    "                 ['base_optimizer', 'batch_size', 'iters_per_adjust', 'weighted_batch', 'lr'],)"
   ]
  },
  {
   "cell_type": "code",
   "execution_count": 81,
   "metadata": {
    "collapsed": false
   },
   "outputs": [
    {
     "data": {
      "text/plain": [
       "{'audio': [],\n",
       " 'compressedHistograms': [u'seboost_optimizer/sesop_optimizer/after_sesop/alpha'],\n",
       " 'graph': True,\n",
       " 'histograms': [u'seboost_optimizer/sesop_optimizer/after_sesop/alpha'],\n",
       " 'images': [],\n",
       " 'meta_graph': False,\n",
       " 'run_metadata': [],\n",
       " 'scalars': [u'seboost_optimizer/sesop_optimizer/after_sesop/after_sesop_minibatch_loss_normalized',\n",
       "  u'seboost_optimizer/sesop_optimizer/after_sesop/sesop_grad_computations',\n",
       "  u'seboost_optimizer/sesop_optimizer/after_sesop/distance_seboost_moved',\n",
       "  u'seboost_optimizer/sesop_optimizer/during_sesop/grad_norm_during_sesop',\n",
       "  u'seboost_optimizer/sesop_optimizer/alpha_after_sesop/a',\n",
       "  u'seboost_optimizer/learning_rate',\n",
       "  u'seboost_optimizer/sesop_optimizer/after_sesop/sgd_sesop_dot_product',\n",
       "  u'seboost_optimizer/test_full_loss',\n",
       "  u'seboost_optimizer/full_loss',\n",
       "  u'seboost_optimizer/weights_norm_during_sgd',\n",
       "  u'seboost_optimizer/sesop_optimizer/during_sesop/loss_during_sesop',\n",
       "  u'seboost_optimizer/sesop_optimizer/after_sesop/distance_sesop_moved',\n",
       "  u'train_loss',\n",
       "  u'seboost_optimizer/loss_during_sgd',\n",
       "  u'test_loss',\n",
       "  u'seboost_optimizer/sesop_optimizer/alpha_after_sesop/a_5',\n",
       "  u'seboost_optimizer/sesop_optimizer/alpha_after_sesop/a_4',\n",
       "  u'seboost_optimizer/sesop_optimizer/alpha_after_sesop/a_7',\n",
       "  u'seboost_optimizer/sesop_optimizer/alpha_after_sesop/a_6',\n",
       "  u'seboost_optimizer/sesop_optimizer/alpha_after_sesop/a_1',\n",
       "  u'seboost_optimizer/sesop_optimizer/alpha_after_sesop/a_3',\n",
       "  u'seboost_optimizer/sesop_optimizer/alpha_after_sesop/a_2',\n",
       "  u'seboost_optimizer/sesop_optimizer/alpha_after_sesop/a_9',\n",
       "  u'seboost_optimizer/sesop_optimizer/alpha_after_sesop/a_8',\n",
       "  u'seboost_optimizer/sesop_optimizer/after_sesop/before_sesop_minibatch_loss',\n",
       "  u'seboost_optimizer/sesop_optimizer/after_sesop/after_sesop_minibatch_loss',\n",
       "  u'seboost_optimizer/grad_norm_norm_during_sgd']}"
      ]
     },
     "execution_count": 81,
     "metadata": {},
     "output_type": "execute_result"
    }
   ],
   "source": [
    "accs[0][0].Tags()"
   ]
  },
  {
   "cell_type": "code",
   "execution_count": 79,
   "metadata": {
    "collapsed": false
   },
   "outputs": [],
   "source": [
    "grad_norm = \\\n",
    "    accs[0][0].Scalars('seboost_optimizer/sesop_optimizer/during_sesop/grad_norm_during_sesop')"
   ]
  },
  {
   "cell_type": "code",
   "execution_count": 80,
   "metadata": {
    "collapsed": false
   },
   "outputs": [],
   "source": [
    "\n",
    "plt.plot([s.step for s in grad_norm], [s.value for s in grad_norm])\n",
    "plt.yscale('log')\n",
    "plt.grid(True)\n",
    "plt.show()"
   ]
  },
  {
   "cell_type": "code",
   "execution_count": 70,
   "metadata": {
    "collapsed": false
   },
   "outputs": [
    {
     "data": {
      "text/plain": [
       "array([ 24.])"
      ]
     },
     "execution_count": 70,
     "metadata": {},
     "output_type": "execute_result"
    }
   ],
   "source": [
    "np.linspace(24, 24, 1)"
   ]
  }
 ],
 "metadata": {
  "kernelspec": {
   "display_name": "Python 2",
   "language": "python",
   "name": "python2"
  },
  "language_info": {
   "codemirror_mode": {
    "name": "ipython",
    "version": 2
   },
   "file_extension": ".py",
   "mimetype": "text/x-python",
   "name": "python",
   "nbconvert_exporter": "python",
   "pygments_lexer": "ipython2",
   "version": "2.7.13"
  }
 },
 "nbformat": 4,
 "nbformat_minor": 0
}
